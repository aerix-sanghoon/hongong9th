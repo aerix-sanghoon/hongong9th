{
  "nbformat": 4,
  "nbformat_minor": 0,
  "metadata": {
    "colab": {
      "provenance": [],
      "authorship_tag": "ABX9TyPAj3l56/Sib4S7G5XS2M4o",
      "include_colab_link": true
    },
    "kernelspec": {
      "name": "python3",
      "display_name": "Python 3"
    },
    "language_info": {
      "name": "python"
    }
  },
  "cells": [
    {
      "cell_type": "markdown",
      "metadata": {
        "id": "view-in-github",
        "colab_type": "text"
      },
      "source": [
        "<a href=\"https://colab.research.google.com/github/aerix-sanghoon/hongong9th/blob/main/ch02_%EC%84%A0%ED%83%9D%EB%AF%B8%EC%85%98.ipynb\" target=\"_parent\"><img src=\"https://colab.research.google.com/assets/colab-badge.svg\" alt=\"Open In Colab\"/></a>"
      ]
    },
    {
      "cell_type": "code",
      "execution_count": 1,
      "metadata": {
        "id": "Al6FaCaQTzR_"
      },
      "outputs": [],
      "source": [
        "import requests\n",
        "from bs4 import BeautifulSoup\n",
        "\n",
        "def get_page_cnt(isbn):\n",
        "  url = 'http://www.yes24.com/Product/Search?domain=BOOK&query={}'\n",
        "  r = requests.get(url.format(isbn)) # URL에 ISBN을 넣음 \n",
        "  soup = BeautifulSoup(r.text,'html.parser') # HTML 페이지 파싱\n",
        "  prd_info = soup.find('a',attrs={'class':'gd_name'}) # 검색결과에서 도서를 선택\n",
        "  url = 'http://www.yes24.com'+prd_info['href'] # 상세 페이지\n",
        "  r = requests.get(url)\n",
        "  soup = BeautifulSoup(r.text,'html.parser') # HTML 페이지 파싱\n",
        "  prd_detail = soup.find('div',attrs={'id':'infoset_specific'}) # 품목정보 div\n",
        "  prd_tr_list = prd_detail.find_all('tr') # tr\n",
        "  #쪽수 찾기\n",
        "  for tr in prd_tr_list:\n",
        "    if tr.find('th').get_text() == '쪽수, 무게, 크기':\n",
        "      return tr.find('td').get_text().split()[0]\n",
        "  return ''"
      ]
    },
    {
      "cell_type": "code",
      "source": [
        "get_page_cnt(9791190090018)"
      ],
      "metadata": {
        "colab": {
          "base_uri": "https://localhost:8080/",
          "height": 35
        },
        "id": "_GWk6D5iUmMo",
        "outputId": "525b1ff7-35bd-4357-9815-879f2bbe3f81"
      },
      "execution_count": 2,
      "outputs": [
        {
          "output_type": "execute_result",
          "data": {
            "text/plain": [
              "'330쪽'"
            ],
            "application/vnd.google.colaboratory.intrinsic+json": {
              "type": "string"
            }
          },
          "metadata": {},
          "execution_count": 2
        }
      ]
    }
  ]
}